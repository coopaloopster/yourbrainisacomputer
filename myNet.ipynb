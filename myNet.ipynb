{
 "cells": [
  {
   "cell_type": "markdown",
   "metadata": {},
   "source": [
    "# A Feed Forward Multilayer Percepton Artificial Neural Network for Vector Classification"
   ]
  },
  {
   "cell_type": "code",
   "execution_count": 3,
   "metadata": {},
   "outputs": [],
   "source": [
    "import numpy as np"
   ]
  },
  {
   "cell_type": "markdown",
   "metadata": {},
   "source": [
    "Initialize Network"
   ]
  },
  {
   "cell_type": "code",
   "execution_count": 4,
   "metadata": {},
   "outputs": [],
   "source": [
    "network = [3, 5, 2]"
   ]
  },
  {
   "cell_type": "markdown",
   "metadata": {},
   "source": [
    "Initialize sample data vectors and classify them"
   ]
  },
  {
   "cell_type": "code",
   "execution_count": 5,
   "metadata": {},
   "outputs": [],
   "source": [
    "initialValues = [[0.74,0.1354,0.87]]\n",
    "initialValQuad = [[1,0]]\n",
    "num = 0\n",
    "index = 5\n",
    "while (num < 100):\n",
    "    num += 1\n",
    "    ran = 1 - (2 * np.random.rand(1,3))\n",
    "    initialValues = np.concatenate((initialValues,ran))\n",
    "    if ran[0][2] > 0:\n",
    "        initialValQuad = np.concatenate((initialValQuad,[[1,0]]), axis=0)\n",
    "    else:\n",
    "        initialValQuad = np.concatenate((initialValQuad,[[0,1]]), axis=0)     "
   ]
  },
  {
   "cell_type": "markdown",
   "metadata": {},
   "source": [
    "Initialize the weights and biases"
   ]
  },
  {
   "cell_type": "code",
   "execution_count": 6,
   "metadata": {},
   "outputs": [],
   "source": [
    "# This line below isn't really necessary anymore but I'm leaving it just cause, feel free to remove it or anything else\n",
    "# input1 = 1-2*np.random.rand(1,network[0])\n",
    "w1 = 1-2*np.random.rand(network[0],network[1])\n",
    "w2 = 1-2*np.random.rand(network[1],network[2])\n",
    "b1 = 1-2*np.random.rand(1,network[1])\n",
    "b2 = 1-2*np.random.rand(1,network[2])"
   ]
  },
  {
   "cell_type": "markdown",
   "metadata": {},
   "source": [
    "Sigmoid Activation Function"
   ]
  },
  {
   "cell_type": "code",
   "execution_count": 7,
   "metadata": {},
   "outputs": [],
   "source": [
    "def activate(inputs,weights,biases):\n",
    "   info = np.dot(inputs,weights)-biases\n",
    "   return 1 / (1 + np.exp(-info))    "
   ]
  },
  {
   "cell_type": "markdown",
   "metadata": {},
   "source": [
    "Test Code"
   ]
  },
  {
   "cell_type": "code",
   "execution_count": 9,
   "metadata": {},
   "outputs": [
    {
     "data": {
      "text/plain": [
       "array([[0.72034441, 0.65096425]])"
      ]
     },
     "execution_count": 9,
     "metadata": {},
     "output_type": "execute_result"
    }
   ],
   "source": [
    "activate(activate(initialValues[0],w1,b1),w2,b2)"
   ]
  },
  {
   "cell_type": "code",
   "execution_count": null,
   "metadata": {},
   "outputs": [],
   "source": []
  }
 ],
 "metadata": {
  "kernelspec": {
   "display_name": "Python 3",
   "language": "python",
   "name": "python3"
  },
  "language_info": {
   "codemirror_mode": {
    "name": "ipython",
    "version": 3
   },
   "file_extension": ".py",
   "mimetype": "text/x-python",
   "name": "python",
   "nbconvert_exporter": "python",
   "pygments_lexer": "ipython3",
   "version": "3.7.0"
  }
 },
 "nbformat": 4,
 "nbformat_minor": 2
}
