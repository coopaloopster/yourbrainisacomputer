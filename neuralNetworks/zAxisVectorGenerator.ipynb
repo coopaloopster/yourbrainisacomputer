{
 "cells": [
  {
   "cell_type": "code",
   "execution_count": 18,
   "metadata": {},
   "outputs": [
    {
     "name": "stdout",
     "output_type": "stream",
     "text": [
      "[[ 0.52608622 -0.53772037  0.30732055]]\n",
      "[[1 0]]\n"
     ]
    }
   ],
   "source": [
    "import numpy as np\n",
    "initialValues = [[0.74,0.1354,0.87]]\n",
    "initialValQuad = [[1,0]]\n",
    "num = 0\n",
    "index = 5\n",
    "while (num < 100):\n",
    "    num += 1\n",
    "    ran = 1 - (2 * np.random.rand(1,3))\n",
    "    initialValues = np.concatenate((initialValues,ran))\n",
    "    if ran[0][2] > 0:\n",
    "        initialValQuad = np.concatenate((initialValQuad,[[1,0]]), axis=0)\n",
    "    else:\n",
    "        initialValQuad = np.concatenate((initialValQuad,[[0,1]]), axis=0)     \n",
    "print(initialValues[[index]]) \n",
    "print(initialValQuad[[index]])"
   ]
  },
  {
   "cell_type": "code",
   "execution_count": null,
   "metadata": {},
   "outputs": [],
   "source": []
  }
 ],
 "metadata": {
  "kernelspec": {
   "display_name": "Python 3",
   "language": "python",
   "name": "python3"
  },
  "language_info": {
   "codemirror_mode": {
    "name": "ipython",
    "version": 3
   },
   "file_extension": ".py",
   "mimetype": "text/x-python",
   "name": "python",
   "nbconvert_exporter": "python",
   "pygments_lexer": "ipython3",
   "version": "3.7.0"
  }
 },
 "nbformat": 4,
 "nbformat_minor": 2
}
