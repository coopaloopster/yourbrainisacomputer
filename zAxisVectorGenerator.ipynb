{
 "cells": [
  {
   "cell_type": "code",
   "execution_count": 8,
   "metadata": {},
   "outputs": [],
   "source": [
    "import numpy as np\n",
    "initialValues = [[0.74,0.1354,0.87]]\n",
    "initValQuad = [[1,0]]\n",
    "num = 0\n",
    "while (num < 100):\n",
    "    num += 1\n",
    "    ran = 1 - (2 * np.random.rand(1,3))\n",
    "    initialValues = np.concatenate((initialValues,ran))\n",
    "    if ran[0][2] > 0:\n",
    "        initValQuad = np.concatenate((initValQuad,[[1,0]]), axis=0)\n",
    "    else:\n",
    "        initValQuad = np.concatenate((initValQuad,[[0,1]]), axis=0)"
   ]
  },
  {
   "cell_type": "code",
   "execution_count": null,
   "metadata": {},
   "outputs": [],
   "source": []
  }
 ],
 "metadata": {
  "kernelspec": {
   "display_name": "Python 3",
   "language": "python",
   "name": "python3"
  },
  "language_info": {
   "codemirror_mode": {
    "name": "ipython",
    "version": 3
   },
   "file_extension": ".py",
   "mimetype": "text/x-python",
   "name": "python",
   "nbconvert_exporter": "python",
   "pygments_lexer": "ipython3",
   "version": "3.7.0"
  }
 },
 "nbformat": 4,
 "nbformat_minor": 2
}
