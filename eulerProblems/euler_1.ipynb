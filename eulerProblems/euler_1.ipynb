{
 "cells": [
  {
   "cell_type": "code",
   "execution_count": 1,
   "metadata": {},
   "outputs": [
    {
     "name": "stdout",
     "output_type": "stream",
     "text": [
      "233168\n"
     ]
    }
   ],
   "source": [
    "threesome=0 \n",
    "fivesum=0 \n",
    "fifteensum=0 \n",
    "totalsum=0\n",
    "\n",
    "for x in range (0,1000):\n",
    "    if x % 3 == 0:\n",
    "        threesome += x\n",
    "    \n",
    "for x in range(0,1000):\n",
    "    if x % 5 == 0:\n",
    "        fivesum += x\n",
    "    \n",
    "for x in range (0,1000): \n",
    "    if x % 15 == 0:\n",
    "        fifteensum += x\n",
    "    \n",
    "    \n",
    "    totalsum = threesome + fivesum - fifteensum    \n",
    "print(totalsum)    \n"
   ]
  },
  {
   "cell_type": "code",
   "execution_count": null,
   "metadata": {},
   "outputs": [],
   "source": []
  }
 ],
 "metadata": {
  "kernelspec": {
   "display_name": "Python 3",
   "language": "python",
   "name": "python3"
  },
  "language_info": {
   "codemirror_mode": {
    "name": "ipython",
    "version": 3
   },
   "file_extension": ".py",
   "mimetype": "text/x-python",
   "name": "python",
   "nbconvert_exporter": "python",
   "pygments_lexer": "ipython3",
   "version": "3.7.1"
  }
 },
 "nbformat": 4,
 "nbformat_minor": 2
}
