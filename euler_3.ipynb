{
 "cells": [
  {
   "cell_type": "code",
   "execution_count": 158,
   "metadata": {},
   "outputs": [],
   "source": [
    "import numpy as np\n",
    "import math"
   ]
  },
  {
   "cell_type": "code",
   "execution_count": 155,
   "metadata": {},
   "outputs": [],
   "source": [
    "n = 600851475143"
   ]
  },
  {
   "cell_type": "code",
   "execution_count": 159,
   "metadata": {},
   "outputs": [],
   "source": [
    "def ifprime(x):\n",
    "    if x==2:\n",
    "        return 1\n",
    "    if x==1:\n",
    "        return 0\n",
    "    sx = math.ceil(np.sqrt(x))+1\n",
    "    test = 1\n",
    "    for i in range(2,sx):\n",
    "        if x%i==0:\n",
    "            test=0\n",
    "    return test"
   ]
  },
  {
   "cell_type": "code",
   "execution_count": 157,
   "metadata": {},
   "outputs": [
    {
     "name": "stdout",
     "output_type": "stream",
     "text": [
      "6857\n"
     ]
    }
   ],
   "source": [
    "max=0\n",
    "for i in range(2,n):\n",
    "    if n%i==0:\n",
    "        n=int(n/i)\n",
    "        while (n%i==0 and n>i):\n",
    "            n=int(n/i)\n",
    "        if ifprime(n)==1:\n",
    "            max = n\n",
    "            break\n",
    "print(max)"
   ]
  }
 ],
 "metadata": {
  "kernelspec": {
   "display_name": "Python 3",
   "language": "python",
   "name": "python3"
  },
  "language_info": {
   "codemirror_mode": {
    "name": "ipython",
    "version": 3
   },
   "file_extension": ".py",
   "mimetype": "text/x-python",
   "name": "python",
   "nbconvert_exporter": "python",
   "pygments_lexer": "ipython3",
   "version": "3.7.1"
  }
 },
 "nbformat": 4,
 "nbformat_minor": 2
}
