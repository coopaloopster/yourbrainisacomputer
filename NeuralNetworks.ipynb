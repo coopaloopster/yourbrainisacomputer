{
 "cells": [
  {
   "cell_type": "code",
   "execution_count": 1,
   "metadata": {},
   "outputs": [],
   "source": [
    "import numpy as np\n",
    "import random as ran"
   ]
  },
  {
   "cell_type": "markdown",
   "metadata": {},
   "source": [
    "**Data Preparation**"
   ]
  },
  {
   "cell_type": "code",
   "execution_count": 8,
   "metadata": {},
   "outputs": [],
   "source": [
    "#initialValues = [[0.74,0.1354]]\n",
    "#moreValues = [[1,2]]\n",
    "#np.concatenate((initialValues,moreValues))"
   ]
  },
  {
   "cell_type": "code",
   "execution_count": 3,
   "metadata": {},
   "outputs": [],
   "source": [
    "initialValues = [[0.74,0.1354]]\n",
    "initValQuad = [[1,0,0,0,0,0,0]]\n",
    "num = 0\n",
    "while (num < 100):\n",
    "    num += 1\n",
    "    ran = 1 - (2 * np.random.rand(1,2))\n",
    "    initialValues = np.concatenate((initialValues,ran))\n",
    "    if ran[0][0] > 0:\n",
    "        if ran[0][1] > 0:\n",
    "            initValQuad = np.concatenate((initValQuad,[[1,0,0,0,0,0,0]]), axis=0)\n",
    "        elif ran[0][1] < 0:\n",
    "            initValQuad = np.concatenate((initValQuad,[[0,0,0,1,0,0,0]]), axis=0)\n",
    "        else:\n",
    "            initValQuad = np.concatenate((initValQuad,[[0,0,0,0,1,0,0]]), axis=0)\n",
    "    if ran[0][0] < 0:\n",
    "        if ran[0][1] > 0:\n",
    "            initValQuad = np.concatenate((initValQuad,[[0,1,0,0,0,0,0]]), axis=0)\n",
    "        elif ran[0][1] < 0:\n",
    "            initValQuad = np.concatenate((initValQuad,[[0,0,1,0,0,0,0]]), axis=0)\n",
    "        else:\n",
    "            initValQuad = np.concatenate((initValQuad,[[0,0,0,0,1,0,0]]), axis=0)\n",
    "    else:\n",
    "        if ran[0][1] != 0:\n",
    "            initValQuad = np.concatenate((initValQuad,[[0,0,0,0,0,1,0]]), axis=0)\n",
    "        else:\n",
    "            initValQuad = np.concatenate((initValQuad,[[0,0,0,0,0,0,1]]), axis=0)"
   ]
  },
  {
   "cell_type": "code",
   "execution_count": 4,
   "metadata": {},
   "outputs": [
    {
     "name": "stdout",
     "output_type": "stream",
     "text": [
      "[[ 0.74        0.1354    ]\n",
      " [ 0.39361105 -0.70820391]\n",
      " [ 0.40009846  0.57146821]\n",
      " [ 0.22504838 -0.93364532]\n",
      " [ 0.37754178  0.97758973]\n",
      " [-0.90996616 -0.95379767]\n",
      " [-0.66381308 -0.59332648]\n",
      " [ 0.48214701  0.02747388]\n",
      " [-0.06353094 -0.64470638]\n",
      " [ 0.07392054  0.49957615]\n",
      " [ 0.82455941 -0.8800649 ]\n",
      " [ 0.90449036  0.2619481 ]\n",
      " [ 0.44142666  0.82402347]\n",
      " [ 0.0215053  -0.80110561]\n",
      " [-0.11493962  0.87181821]\n",
      " [-0.79235478 -0.80790103]\n",
      " [-0.37477407 -0.947343  ]\n",
      " [-0.05578219  0.52548471]\n",
      " [ 0.30957253 -0.02472213]\n",
      " [ 0.74999725 -0.86039077]\n",
      " [-0.06686869  0.5085568 ]\n",
      " [ 0.84056398  0.68970954]\n",
      " [-0.54007398 -0.52843516]\n",
      " [ 0.72630576 -0.21437973]\n",
      " [ 0.33728883 -0.52446692]\n",
      " [-0.68382671 -0.07541795]\n",
      " [-0.55859235  0.71585689]\n",
      " [-0.61730689 -0.57899113]\n",
      " [-0.71826154  0.86197378]\n",
      " [-0.39637005 -0.73684415]\n",
      " [-0.40339437 -0.89820478]\n",
      " [-0.929562    0.18687455]\n",
      " [ 0.0559114  -0.97185116]\n",
      " [-0.75604594 -0.9013727 ]\n",
      " [ 0.22090969 -0.51031876]\n",
      " [ 0.80553819  0.4461523 ]\n",
      " [ 0.67657523  0.64997491]\n",
      " [ 0.50132598 -0.10393809]\n",
      " [-0.56816317 -0.23641411]\n",
      " [-0.0126301  -0.53470929]\n",
      " [-0.95974557  0.24622291]\n",
      " [ 0.16288354 -0.55535663]\n",
      " [ 0.1995674   0.8893537 ]\n",
      " [-0.81960017  0.26433973]\n",
      " [-0.02882586 -0.8342483 ]\n",
      " [-0.53775037  0.38359075]\n",
      " [ 0.28093189 -0.28087231]\n",
      " [-0.07209009 -0.63800068]\n",
      " [ 0.75352701  0.03018497]\n",
      " [ 0.48281024 -0.63006494]\n",
      " [ 0.16668271 -0.04318957]\n",
      " [ 0.81839769  0.9252665 ]\n",
      " [ 0.34047707  0.27823455]\n",
      " [ 0.98092394 -0.0073991 ]\n",
      " [ 0.63135915  0.33654261]\n",
      " [ 0.60963582 -0.68116524]\n",
      " [-0.61636112 -0.32770859]\n",
      " [ 0.69612167  0.99950413]\n",
      " [ 0.81963011  0.70351758]\n",
      " [ 0.64981912 -0.20539066]\n",
      " [-0.17886195 -0.24498274]\n",
      " [ 0.20598884 -0.97083115]\n",
      " [ 0.03183004 -0.45850845]\n",
      " [-0.29186222  0.3782744 ]\n",
      " [-0.09684913  0.91729295]\n",
      " [ 0.65234302 -0.32829548]\n",
      " [ 0.08661018 -0.05316982]\n",
      " [ 0.49442547 -0.7657843 ]\n",
      " [ 0.87510319  0.80829674]\n",
      " [ 0.26660151  0.13206627]\n",
      " [-0.7799113   0.2677998 ]\n",
      " [-0.60456661 -0.00684843]\n",
      " [ 0.42010323 -0.32157673]\n",
      " [-0.90385095 -0.41720459]\n",
      " [-0.4136855  -0.21720009]\n",
      " [ 0.85872027  0.78805887]\n",
      " [ 0.12934737 -0.19054287]\n",
      " [-0.42927934 -0.40713763]\n",
      " [ 0.96431925 -0.46795868]\n",
      " [ 0.15295683 -0.63487902]\n",
      " [ 0.09669942  0.24320804]\n",
      " [-0.69291373 -0.19912368]\n",
      " [-0.2049037  -0.95385961]\n",
      " [-0.59922938  0.17618227]\n",
      " [ 0.60299322 -0.1476168 ]\n",
      " [-0.18363429 -0.89687929]\n",
      " [-0.50977933 -0.64691701]\n",
      " [-0.9830891  -0.18007903]\n",
      " [-0.8694245   0.64245549]\n",
      " [-0.24395201  0.18390073]\n",
      " [ 0.69631334 -0.60660798]\n",
      " [ 0.21800549  0.0168471 ]\n",
      " [ 0.79438826  0.79231349]\n",
      " [ 0.51106263  0.34458281]\n",
      " [ 0.45904674  0.17809462]\n",
      " [ 0.69244884 -0.42387919]\n",
      " [-0.23936254 -0.40118047]\n",
      " [ 0.9529142   0.55552399]\n",
      " [-0.00290254 -0.5199523 ]\n",
      " [-0.64339452  0.09217372]\n",
      " [ 0.14607146 -0.01875016]]\n"
     ]
    }
   ],
   "source": [
    "print(initialValues)"
   ]
  },
  {
   "cell_type": "code",
   "execution_count": 7,
   "metadata": {},
   "outputs": [
    {
     "name": "stdout",
     "output_type": "stream",
     "text": [
      "[0 0 0 1 0 0 0]\n"
     ]
    }
   ],
   "source": [
    "print(initValQuad)"
   ]
  },
  {
   "cell_type": "markdown",
   "metadata": {},
   "source": [
    "**Initialize Network**"
   ]
  },
  {
   "cell_type": "code",
   "execution_count": null,
   "metadata": {},
   "outputs": [],
   "source": [
    "\n",
    "i = 1 - (2 * np.random.rand(1,3))\n",
    "w1 = 1 - (2 * np.random.rand(3,5))\n",
    "w2 = 1 - (2 * np.random.rand(5,4))\n",
    "b1 = 1 - (2 * np.random.rand(1,5))\n",
    "b2 = 1 - (2 * np.random.rand(1,4))"
   ]
  },
  {
   "cell_type": "code",
   "execution_count": null,
   "metadata": {},
   "outputs": [],
   "source": [
    "def funct(inputs, weights, bias):\n",
    "    linCom = np.dot(inputs, weights) - bias\n",
    "    return 1/(1 + np.exp(-linCom))"
   ]
  },
  {
   "cell_type": "code",
   "execution_count": null,
   "metadata": {},
   "outputs": [],
   "source": [
    "m1 = funct(i,w1,b1)[0]\n",
    "print(m1)"
   ]
  },
  {
   "cell_type": "code",
   "execution_count": null,
   "metadata": {},
   "outputs": [],
   "source": [
    "f = funct(m1,w2,b2)[0]\n",
    "print(f)"
   ]
  },
  {
   "cell_type": "code",
   "execution_count": null,
   "metadata": {},
   "outputs": [],
   "source": []
  }
 ],
 "metadata": {
  "kernelspec": {
   "display_name": "Python 3",
   "language": "python",
   "name": "python3"
  },
  "language_info": {
   "codemirror_mode": {
    "name": "ipython",
    "version": 3
   },
   "file_extension": ".py",
   "mimetype": "text/x-python",
   "name": "python",
   "nbconvert_exporter": "python",
   "pygments_lexer": "ipython3",
   "version": "3.7.0"
  }
 },
 "nbformat": 4,
 "nbformat_minor": 2
}
